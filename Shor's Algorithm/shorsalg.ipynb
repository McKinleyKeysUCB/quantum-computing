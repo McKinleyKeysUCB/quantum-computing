{
 "cells": [
  {
   "cell_type": "markdown",
   "id": "3a249e32-b959-4ce5-bbbb-bc27d55533d3",
   "metadata": {},
   "source": [
    "# Let us begin with a classical approach to the Shor's Algorithm"
   ]
  },
  {
   "cell_type": "code",
   "execution_count": 1,
   "id": "81e59351-a885-435f-8283-d09ff562b99e",
   "metadata": {},
   "outputs": [],
   "source": [
    "import random\n",
    "import math"
   ]
  },
  {
   "cell_type": "code",
   "execution_count": 2,
   "id": "90cff85f-1c9d-43d6-bcac-fdafed0c0bfc",
   "metadata": {},
   "outputs": [],
   "source": [
    "# Primality test (using the simple 6k +/- 1 optimization)\n",
    "def is_prime(n):\n",
    "    if n <= 3:\n",
    "       return n > 1\n",
    "    if n % 2 == 0 or n % 3 == 0:\n",
    "       return False\n",
    "    i = 5\n",
    "    while i * i <= n:\n",
    "       if n % i == 0 or n % (i + 2) == 0:\n",
    "            return False\n",
    "       i += 6\n",
    "    return True"
   ]
  },
  {
   "cell_type": "code",
   "execution_count": 3,
   "id": "0f291e79-be9d-442b-a186-d53f62457065",
   "metadata": {},
   "outputs": [],
   "source": [
    "# GCD (Euclidean algorithm)\n",
    "def gcd(a, b):\n",
    "    while b:\n",
    "       a, b = b, a % b\n",
    "    return a"
   ]
  },
  {
   "cell_type": "code",
   "execution_count": 4,
   "id": "de04f9aa-3d22-4f1a-8f40-17d95a657c9d",
   "metadata": {},
   "outputs": [],
   "source": [
    "# Modular exponentiation to prevent overflow\n",
    "def pow_mod(x, y, z):\n",
    "    result = 1\n",
    "    x = x % z\n",
    "    while y > 0:\n",
    "       if y & 1:\n",
    "            result = (result * x) % z\n",
    "       y >>= 1\n",
    "       x = (x * x) % z\n",
    "    return result"
   ]
  },
  {
   "cell_type": "code",
   "execution_count": 5,
   "id": "77481df4-1cf9-424b-b210-5165f93ae37c",
   "metadata": {},
   "outputs": [],
   "source": [
    "# Classical period finding (inefficient compared to quantum approach)\n",
    "def find_period(a, N):\n",
    "    r = 1\n",
    "    while pow_mod(a, r, N) != 1:\n",
    "       r += 1\n",
    "    return r"
   ]
  },
  {
   "cell_type": "code",
   "execution_count": 6,
   "id": "5b834b80-7f6d-4d24-bc37-22420e31b7cf",
   "metadata": {},
   "outputs": [],
   "source": [
    "# Check if the number is a power of another number\n",
    "def check_power(N):\n",
    "    for a in range(2, int(math.log2(N)) + 1):\n",
    "       b = round(N ** (1 / a))\n",
    "       if b ** a == N:\n",
    "          return True, a, b\n",
    "    return False, None, None"
   ]
  },
  {
   "cell_type": "code",
   "execution_count": 7,
   "id": "727315d5-863d-4d9b-b907-071bc9127856",
   "metadata": {},
   "outputs": [],
   "source": [
    "# Shor's algorithm (classical simulation)\n",
    "def shors_algorithm(N):\n",
    "    assert N >= 2\n",
    "    # Step 1: Check if N is prime or a power of a number\n",
    "    if is_prime(N):\n",
    "       return N\n",
    "    is_power, a, b = check_power(N)\n",
    "    if is_power:\n",
    "       return b\n",
    "\n",
    "    while True:\n",
    "       # Step 2: Choose a random x in [2, N - 1]\n",
    "       x = random.randint(2, N - 1)\n",
    "       # Step 3: Compute gcd(x, N)\n",
    "       x_gcd = gcd(x, N)\n",
    "       if x_gcd != 1:\n",
    "            # Found a factor\n",
    "            return x_gcd\n",
    "\n",
    "       # Step 4: Find period r using classical period finding\n",
    "       r = find_period(x, N)\n",
    "       if r % 2 == 1:\n",
    "          # If r is odd, try again\n",
    "          continue\n",
    "\n",
    "       # Step 5: Compute factors\n",
    "       factor1 = gcd(pow_mod(x, r // 2, N) - 1, N)\n",
    "       factor2 = gcd(pow_mod(x, r // 2, N) + 1, N)\n",
    "\n",
    "       if factor1 == N or factor2 == N:\n",
    "          # Unlucky choice of x, try again\n",
    "          continue\n",
    "\n",
    "       # Return the non-trivial factors\n",
    "       return factor1, factor2\n",
    "\n"
   ]
  },
  {
   "cell_type": "code",
   "execution_count": 34,
   "id": "a83c275e-43f4-45ca-bbc8-11f8caff8e54",
   "metadata": {},
   "outputs": [
    {
     "name": "stdout",
     "output_type": "stream",
     "text": [
      "The factors of 40 are: [10, 4.0, 8, 5.0]\n"
     ]
    }
   ],
   "source": [
    "# Example usage:\n",
    "N = 40 # Example number to factor\n",
    "factor = shors_algorithm(N)\n",
    "#print(factor)\n",
    "answer = []\n",
    "#print(str(type(factor)))\n",
    "if str(type(factor)) == \"<class 'int'>\":\n",
    "    answer.append(factor)\n",
    "    answer.append(N/factor)\n",
    "else: \n",
    "    for i in range(len(factor)): \n",
    "        answer.append(factor[i])\n",
    "        answer.append(N/factor[i])\n",
    "print(f\"The factors of {N} are: {answer}\")"
   ]
  },
  {
   "cell_type": "code",
   "execution_count": null,
   "id": "94c6031f-fc28-4629-bea9-97934341ffc2",
   "metadata": {},
   "outputs": [],
   "source": []
  }
 ],
 "metadata": {
  "kernelspec": {
   "display_name": "Python 3 (ipykernel)",
   "language": "python",
   "name": "python3"
  },
  "language_info": {
   "codemirror_mode": {
    "name": "ipython",
    "version": 3
   },
   "file_extension": ".py",
   "mimetype": "text/x-python",
   "name": "python",
   "nbconvert_exporter": "python",
   "pygments_lexer": "ipython3",
   "version": "3.9.19"
  }
 },
 "nbformat": 4,
 "nbformat_minor": 5
}
