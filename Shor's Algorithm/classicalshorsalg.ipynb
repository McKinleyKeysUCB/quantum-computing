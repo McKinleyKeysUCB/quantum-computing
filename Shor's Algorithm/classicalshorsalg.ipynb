{
 "cells": [
  {
   "cell_type": "markdown",
   "id": "3a249e32-b959-4ce5-bbbb-bc27d55533d3",
   "metadata": {},
   "source": [
    "# Let us begin with a classical approach to the Shor's Algorithm"
   ]
  },
  {
   "cell_type": "code",
   "execution_count": 117,
   "id": "81e59351-a885-435f-8283-d09ff562b99e",
   "metadata": {},
   "outputs": [],
   "source": [
    "import random\n",
    "import math"
   ]
  },
  {
   "cell_type": "code",
   "execution_count": 118,
   "id": "90cff85f-1c9d-43d6-bcac-fdafed0c0bfc",
   "metadata": {},
   "outputs": [],
   "source": [
    "# Primality test (using the simple 6k +/- 1 optimization)\n",
    "def is_prime(n):\n",
    "    if n <= 3:\n",
    "       return n > 1\n",
    "    if n % 2 == 0 or n % 3 == 0:\n",
    "       return False\n",
    "    i = 5\n",
    "    while i * i <= n:\n",
    "       if n % i == 0 or n % (i + 2) == 0:\n",
    "            return False\n",
    "       i += 6\n",
    "    return True"
   ]
  },
  {
   "cell_type": "code",
   "execution_count": 119,
   "id": "0f291e79-be9d-442b-a186-d53f62457065",
   "metadata": {},
   "outputs": [],
   "source": [
    "# GCD (Euclidean algorithm)\n",
    "def gcd(a, b):\n",
    "    while b:\n",
    "       a, b = b, a % b\n",
    "    return a"
   ]
  },
  {
   "cell_type": "code",
   "execution_count": 120,
   "id": "de04f9aa-3d22-4f1a-8f40-17d95a657c9d",
   "metadata": {},
   "outputs": [],
   "source": [
    "# Modular exponentiation to prevent overflow\n",
    "def pow_mod(x, y, z):\n",
    "    result = 1\n",
    "    x = x % z\n",
    "    while y > 0:\n",
    "       if y & 1:\n",
    "            result = (result * x) % z\n",
    "       y >>= 1\n",
    "       x = (x * x) % z\n",
    "    return result"
   ]
  },
  {
   "cell_type": "code",
   "execution_count": 121,
   "id": "77481df4-1cf9-424b-b210-5165f93ae37c",
   "metadata": {},
   "outputs": [],
   "source": [
    "# Classical period finding (inefficient compared to quantum approach)\n",
    "def find_period(a, N):\n",
    "    r = 1\n",
    "    while pow_mod(a, r, N) != 1:\n",
    "       r += 1\n",
    "    return r"
   ]
  },
  {
   "cell_type": "code",
   "execution_count": 122,
   "id": "5b834b80-7f6d-4d24-bc37-22420e31b7cf",
   "metadata": {},
   "outputs": [],
   "source": [
    "# Check if the number is a power of another number\n",
    "def check_power(N):\n",
    "    for a in range(2, int(math.log2(N)) + 1):\n",
    "       b = round(N ** (1 / a))\n",
    "       if b ** a == N:\n",
    "          return True, a, b\n",
    "    return False, None, None"
   ]
  },
  {
   "cell_type": "code",
   "execution_count": 123,
   "id": "727315d5-863d-4d9b-b907-071bc9127856",
   "metadata": {},
   "outputs": [],
   "source": [
    "# Shor's algorithm (classical simulation)\n",
    "def shors_algorithm(N):\n",
    "    assert N >= 2\n",
    "    # Step 1: Check if N is prime or a power of a number\n",
    "    if is_prime(N):\n",
    "       return N\n",
    "    is_power, a, b = check_power(N)\n",
    "    if is_power:\n",
    "       return b\n",
    "\n",
    "    while True:\n",
    "       # Step 2: Choose a random x in [2, N - 1]\n",
    "       x = random.randint(2, N - 1)\n",
    "       # Step 3: Compute gcd(x, N)\n",
    "       x_gcd = gcd(x, N)\n",
    "       if x_gcd != 1:\n",
    "            # Found a factor\n",
    "            return x_gcd\n",
    "\n",
    "       # Step 4: Find period r using classical period finding\n",
    "       r = find_period(x, N)\n",
    "       if r % 2 == 1:\n",
    "          # If r is odd, try again\n",
    "          continue\n",
    "\n",
    "       # Step 5: Compute factors\n",
    "       factor1 = gcd(pow_mod(x, r // 2, N) - 1, N)\n",
    "       factor2 = gcd(pow_mod(x, r // 2, N) + 1, N) \n",
    "       if factor1 == N or factor2 == N:\n",
    "          # Unlucky choice of x, try again\n",
    "          continue\n",
    "\n",
    "       # Return the non-trivial factors\n",
    "       return factor1, factor2"
   ]
  },
  {
   "cell_type": "code",
   "execution_count": 124,
   "id": "2ebb9bcb-4238-4ea0-969a-b72f23a5ac93",
   "metadata": {},
   "outputs": [],
   "source": [
    "def find_factors(N):\n",
    "    factors = []\n",
    "    factor = shors_algorithm(N)\n",
    "    if str(type(factor)) == \"<class 'int'>\":\n",
    "        factors.append(factor)\n",
    "        factors.append(N/factor)\n",
    "        if is_prime(factor) == False: \n",
    "                factors.append(find_factors(factor))\n",
    "        if is_prime(int(N/factor)) == False: \n",
    "            factors.append(find_factors(int(N/factor)))\n",
    "    else: \n",
    "        for i in range(len(factor)):\n",
    "            factors.append(factor[i])\n",
    "            factors.append(N/factor[i])\n",
    "            if is_prime(factor[i]) == False: \n",
    "                factors.append(find_factors(factor[i]))\n",
    "            if is_prime(int(N/factor[i])) == False: \n",
    "                factors.append(find_factors(int(N/factor[i])))\n",
    "    return factors"
   ]
  },
  {
   "cell_type": "code",
   "execution_count": 125,
   "id": "af02b981-29a2-4c86-997b-a2114e841f46",
   "metadata": {},
   "outputs": [],
   "source": [
    "def flatten_array(arr):\n",
    "    flattened = []\n",
    "   \n",
    "    for element in arr:\n",
    "       if isinstance(element, list): # Check if it's a list\n",
    "            # If it is a list, extend the flattened list with the result\n",
    "            # of a recursive call to flatten the sublist\n",
    "          flattened.extend(flatten_array(element))\n",
    "       else:\n",
    "            # If it's not a list, just append the element\n",
    "            flattened.append(element)\n",
    "   \n",
    "    return flattened\n",
    "\n",
    "# Example array\n",
    "#arr = [6, 5.0, [3, 2.0], 10, 3.0, [2, 5.0]]\n",
    "\n",
    "# Flattening the array\n",
    "#flattened_arr = flatten_array(arr)\n",
    "#print(flattened_arr)"
   ]
  },
  {
   "cell_type": "code",
   "execution_count": 126,
   "id": "95d1791a-c99c-4c01-a34d-bd290f9929e2",
   "metadata": {},
   "outputs": [],
   "source": [
    "def clean_arr(arr):\n",
    "    #flatten array\n",
    "    arr = flatten_array(arr)\n",
    "    \n",
    "    # Step 1: Typecast to integers\n",
    "    arr = [int(number) for number in arr]\n",
    "   \n",
    "    # Step 2: Remove duplicates\n",
    "    arr = list(set(arr))\n",
    "   \n",
    "    # Step 3: Filter out non-prime numbers\n",
    "    prime_arr = [num for num in arr if is_prime(num)]\n",
    "   \n",
    "    return prime_arr\n",
    "\n",
    "# Example array\n",
    "# arr = [6, 5.0, [3, 2.0], 10, 3.0, [2, 5.0]]\n",
    "\n",
    "# Cleaning the array\n",
    "# cleaned_arr = clean_arr(arr)\n",
    "# print(cleaned_arr)"
   ]
  },
  {
   "cell_type": "code",
   "execution_count": 127,
   "id": "78ef75e7-433d-45b1-8ef9-ba890485c17a",
   "metadata": {},
   "outputs": [
    {
     "name": "stdout",
     "output_type": "stream",
     "text": [
      "[11, 3]\n"
     ]
    }
   ],
   "source": [
    "# Example usage:\n",
    "N = 33 # Example number to factor\n",
    "factors = find_factors(N)\n",
    "print(clean_arr(factors))"
   ]
  },
  {
   "cell_type": "code",
   "execution_count": null,
   "id": "4bd556d3-ae25-4341-96be-fac837f63319",
   "metadata": {},
   "outputs": [],
   "source": []
  }
 ],
 "metadata": {
  "kernelspec": {
   "display_name": "Python 3 (ipykernel)",
   "language": "python",
   "name": "python3"
  },
  "language_info": {
   "codemirror_mode": {
    "name": "ipython",
    "version": 3
   },
   "file_extension": ".py",
   "mimetype": "text/x-python",
   "name": "python",
   "nbconvert_exporter": "python",
   "pygments_lexer": "ipython3",
   "version": "3.9.19"
  }
 },
 "nbformat": 4,
 "nbformat_minor": 5
}
